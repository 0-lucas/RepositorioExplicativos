{
 "cells": [
  {
   "cell_type": "code",
   "execution_count": 1,
   "outputs": [],
   "source": [
    "import numpy as np\n",
    "import pandas as pd\n",
    "from custom_transformers import add_combined_column, CombineAttributes, Square\n",
    "from sklearn.impute import SimpleImputer\n",
    "from sklearn.compose import ColumnTransformer\n",
    "from sklearn.preprocessing import FunctionTransformer\n",
    "from sklearn.pipeline import Pipeline\n",
    "from warnings import filterwarnings\n",
    "\n",
    "filterwarnings(\"ignore\")"
   ],
   "metadata": {
    "collapsed": false,
    "ExecuteTime": {
     "end_time": "2023-11-09T19:41:43.403945700Z",
     "start_time": "2023-11-09T19:41:36.517261500Z"
    }
   },
   "id": "initial_id"
  },
  {
   "cell_type": "code",
   "execution_count": 2,
   "outputs": [
    {
     "data": {
      "text/plain": "array([ 1,  4,  9, 16, 25])"
     },
     "execution_count": 2,
     "metadata": {},
     "output_type": "execute_result"
    }
   ],
   "source": [
    "# Definimos um conjunto arbitrário para teste\n",
    "numbers_array = np.array([1, 2, 3, 4, 5])\n",
    "    \n",
    "# Integramos nossa nova classe na API do scikit-learn\n",
    "pipeline_quadrado = Pipeline([\n",
    "    (\"SquaredNumbers\", Square())\n",
    "])\n",
    "\n",
    "pipeline_quadrado.fit_transform(numbers_array)"
   ],
   "metadata": {
    "collapsed": false,
    "ExecuteTime": {
     "end_time": "2023-11-09T19:41:43.425933200Z",
     "start_time": "2023-11-09T19:41:43.411941600Z"
    }
   },
   "id": "7a71f8cd8758d098"
  },
  {
   "cell_type": "code",
   "execution_count": 3,
   "outputs": [
    {
     "data": {
      "text/plain": "array([11, 12, 13, 14, 15])"
     },
     "execution_count": 3,
     "metadata": {},
     "output_type": "execute_result"
    }
   ],
   "source": [
    "pipeline_discreto = Pipeline([\n",
    "    (\"SumNumbers\", FunctionTransformer(lambda x: x+10))\n",
    "])\n",
    "\n",
    "pipeline_discreto.fit_transform(numbers_array)"
   ],
   "metadata": {
    "collapsed": false,
    "ExecuteTime": {
     "end_time": "2023-11-09T19:41:43.492895100Z",
     "start_time": "2023-11-09T19:41:43.424933400Z"
    }
   },
   "id": "521830647afefd84"
  },
  {
   "cell_type": "code",
   "execution_count": 4,
   "outputs": [
    {
     "data": {
      "text/plain": "        Name Dorm  Notebooks\n0    Adriano    A        2.0\n1        Ana    B        1.0\n2       Luis    C        NaN\n3  Guilherme    A        3.0\n4       José    B        2.0\n5      Maria    C        4.0\n6      Clara    A        1.0\n7   Leonardo    B        1.0\n8      Alice    C        2.0\n9      Júlia  NaN        3.0",
      "text/html": "<div>\n<style scoped>\n    .dataframe tbody tr th:only-of-type {\n        vertical-align: middle;\n    }\n\n    .dataframe tbody tr th {\n        vertical-align: top;\n    }\n\n    .dataframe thead th {\n        text-align: right;\n    }\n</style>\n<table border=\"1\" class=\"dataframe\">\n  <thead>\n    <tr style=\"text-align: right;\">\n      <th></th>\n      <th>Name</th>\n      <th>Dorm</th>\n      <th>Notebooks</th>\n    </tr>\n  </thead>\n  <tbody>\n    <tr>\n      <th>0</th>\n      <td>Adriano</td>\n      <td>A</td>\n      <td>2.0</td>\n    </tr>\n    <tr>\n      <th>1</th>\n      <td>Ana</td>\n      <td>B</td>\n      <td>1.0</td>\n    </tr>\n    <tr>\n      <th>2</th>\n      <td>Luis</td>\n      <td>C</td>\n      <td>NaN</td>\n    </tr>\n    <tr>\n      <th>3</th>\n      <td>Guilherme</td>\n      <td>A</td>\n      <td>3.0</td>\n    </tr>\n    <tr>\n      <th>4</th>\n      <td>José</td>\n      <td>B</td>\n      <td>2.0</td>\n    </tr>\n    <tr>\n      <th>5</th>\n      <td>Maria</td>\n      <td>C</td>\n      <td>4.0</td>\n    </tr>\n    <tr>\n      <th>6</th>\n      <td>Clara</td>\n      <td>A</td>\n      <td>1.0</td>\n    </tr>\n    <tr>\n      <th>7</th>\n      <td>Leonardo</td>\n      <td>B</td>\n      <td>1.0</td>\n    </tr>\n    <tr>\n      <th>8</th>\n      <td>Alice</td>\n      <td>C</td>\n      <td>2.0</td>\n    </tr>\n    <tr>\n      <th>9</th>\n      <td>Júlia</td>\n      <td>NaN</td>\n      <td>3.0</td>\n    </tr>\n  </tbody>\n</table>\n</div>"
     },
     "execution_count": 4,
     "metadata": {},
     "output_type": "execute_result"
    }
   ],
   "source": [
    "data = pd.DataFrame({\n",
    "    \"Name\": [\"Adriano\", \"Ana\", \"Luis\", \"Guilherme\", \"José\", \"Maria\", \"Clara\", \"Leonardo\", \"Alice\", \"Júlia\"],\n",
    "    \"Dorm\": [\"A\", \"B\", \"C\", \"A\", \"B\", \"C\", \"A\", \"B\", \"C\", np.nan],\n",
    "    \"Notebooks\": [2, 1, np.nan, 3, 2, 4, 1, 1, 2, 3]\n",
    "})\n",
    "data"
   ],
   "metadata": {
    "collapsed": false,
    "ExecuteTime": {
     "end_time": "2023-11-09T19:41:43.495893100Z",
     "start_time": "2023-11-09T19:41:43.438926Z"
    }
   },
   "id": "da9bb0c18c035c7f"
  },
  {
   "cell_type": "code",
   "execution_count": 16,
   "outputs": [
    {
     "data": {
      "text/plain": "        Name Dorm  Notebooks  Notebooks in Dorm\n0    Adriano    A        2.0                6.0\n1        Ana    B        1.0                4.0\n2       Luis    C        NaN                6.0\n3  Guilherme    A        3.0                6.0\n4       José    B        2.0                4.0\n5      Maria    C        4.0                6.0\n6      Clara    A        1.0                6.0\n7   Leonardo    B        1.0                4.0\n8      Alice    C        2.0                6.0\n9      Júlia  NaN        3.0                NaN",
      "text/html": "<div>\n<style scoped>\n    .dataframe tbody tr th:only-of-type {\n        vertical-align: middle;\n    }\n\n    .dataframe tbody tr th {\n        vertical-align: top;\n    }\n\n    .dataframe thead th {\n        text-align: right;\n    }\n</style>\n<table border=\"1\" class=\"dataframe\">\n  <thead>\n    <tr style=\"text-align: right;\">\n      <th></th>\n      <th>Name</th>\n      <th>Dorm</th>\n      <th>Notebooks</th>\n      <th>Notebooks in Dorm</th>\n    </tr>\n  </thead>\n  <tbody>\n    <tr>\n      <th>0</th>\n      <td>Adriano</td>\n      <td>A</td>\n      <td>2.0</td>\n      <td>6.0</td>\n    </tr>\n    <tr>\n      <th>1</th>\n      <td>Ana</td>\n      <td>B</td>\n      <td>1.0</td>\n      <td>4.0</td>\n    </tr>\n    <tr>\n      <th>2</th>\n      <td>Luis</td>\n      <td>C</td>\n      <td>NaN</td>\n      <td>6.0</td>\n    </tr>\n    <tr>\n      <th>3</th>\n      <td>Guilherme</td>\n      <td>A</td>\n      <td>3.0</td>\n      <td>6.0</td>\n    </tr>\n    <tr>\n      <th>4</th>\n      <td>José</td>\n      <td>B</td>\n      <td>2.0</td>\n      <td>4.0</td>\n    </tr>\n    <tr>\n      <th>5</th>\n      <td>Maria</td>\n      <td>C</td>\n      <td>4.0</td>\n      <td>6.0</td>\n    </tr>\n    <tr>\n      <th>6</th>\n      <td>Clara</td>\n      <td>A</td>\n      <td>1.0</td>\n      <td>6.0</td>\n    </tr>\n    <tr>\n      <th>7</th>\n      <td>Leonardo</td>\n      <td>B</td>\n      <td>1.0</td>\n      <td>4.0</td>\n    </tr>\n    <tr>\n      <th>8</th>\n      <td>Alice</td>\n      <td>C</td>\n      <td>2.0</td>\n      <td>6.0</td>\n    </tr>\n    <tr>\n      <th>9</th>\n      <td>Júlia</td>\n      <td>NaN</td>\n      <td>3.0</td>\n      <td>NaN</td>\n    </tr>\n  </tbody>\n</table>\n</div>"
     },
     "execution_count": 16,
     "metadata": {},
     "output_type": "execute_result"
    }
   ],
   "source": [
    "data_grouped = data.groupby(\"Dorm\").sum(numeric_only=True)\n",
    "\n",
    "rename_map = {\"Notebooks\": \"Notebooks in Dorm\"}\n",
    "data_renamed = data_grouped.rename(columns=rename_map)\n",
    "\n",
    "data_combined = data.join(data_renamed, on=\"Dorm\")\n",
    "data_combined"
   ],
   "metadata": {
    "collapsed": false,
    "ExecuteTime": {
     "end_time": "2023-11-09T20:20:39.480499Z",
     "start_time": "2023-11-09T20:20:39.446500Z"
    }
   },
   "id": "dd5b17489bc50d6c"
  },
  {
   "cell_type": "code",
   "execution_count": 5,
   "outputs": [
    {
     "data": {
      "text/plain": "        Name Dorm  Notebooks  Notebooks per Dorm\n0    Adriano    A        2.0                 6.0\n1        Ana    B        1.0                 4.0\n2       Luis    C        NaN                 6.0\n3  Guilherme    A        3.0                 6.0\n4       José    B        2.0                 4.0\n5      Maria    C        4.0                 6.0\n6      Clara    A        1.0                 6.0\n7   Leonardo    B        1.0                 4.0\n8      Alice    C        2.0                 6.0\n9      Júlia  NaN        3.0                 NaN",
      "text/html": "<div>\n<style scoped>\n    .dataframe tbody tr th:only-of-type {\n        vertical-align: middle;\n    }\n\n    .dataframe tbody tr th {\n        vertical-align: top;\n    }\n\n    .dataframe thead th {\n        text-align: right;\n    }\n</style>\n<table border=\"1\" class=\"dataframe\">\n  <thead>\n    <tr style=\"text-align: right;\">\n      <th></th>\n      <th>Name</th>\n      <th>Dorm</th>\n      <th>Notebooks</th>\n      <th>Notebooks per Dorm</th>\n    </tr>\n  </thead>\n  <tbody>\n    <tr>\n      <th>0</th>\n      <td>Adriano</td>\n      <td>A</td>\n      <td>2.0</td>\n      <td>6.0</td>\n    </tr>\n    <tr>\n      <th>1</th>\n      <td>Ana</td>\n      <td>B</td>\n      <td>1.0</td>\n      <td>4.0</td>\n    </tr>\n    <tr>\n      <th>2</th>\n      <td>Luis</td>\n      <td>C</td>\n      <td>NaN</td>\n      <td>6.0</td>\n    </tr>\n    <tr>\n      <th>3</th>\n      <td>Guilherme</td>\n      <td>A</td>\n      <td>3.0</td>\n      <td>6.0</td>\n    </tr>\n    <tr>\n      <th>4</th>\n      <td>José</td>\n      <td>B</td>\n      <td>2.0</td>\n      <td>4.0</td>\n    </tr>\n    <tr>\n      <th>5</th>\n      <td>Maria</td>\n      <td>C</td>\n      <td>4.0</td>\n      <td>6.0</td>\n    </tr>\n    <tr>\n      <th>6</th>\n      <td>Clara</td>\n      <td>A</td>\n      <td>1.0</td>\n      <td>6.0</td>\n    </tr>\n    <tr>\n      <th>7</th>\n      <td>Leonardo</td>\n      <td>B</td>\n      <td>1.0</td>\n      <td>4.0</td>\n    </tr>\n    <tr>\n      <th>8</th>\n      <td>Alice</td>\n      <td>C</td>\n      <td>2.0</td>\n      <td>6.0</td>\n    </tr>\n    <tr>\n      <th>9</th>\n      <td>Júlia</td>\n      <td>NaN</td>\n      <td>3.0</td>\n      <td>NaN</td>\n    </tr>\n  </tbody>\n</table>\n</div>"
     },
     "execution_count": 5,
     "metadata": {},
     "output_type": "execute_result"
    }
   ],
   "source": [
    "# Usando Pandas - Rápido e fácil. Perfeito para análise exploratória.\n",
    "data_merged = add_combined_column(data, \"Dorm\", \"Notebooks in Dorm\")\n",
    "data_merged"
   ],
   "metadata": {
    "collapsed": false,
    "ExecuteTime": {
     "end_time": "2023-11-09T19:41:43.497892Z",
     "start_time": "2023-11-09T19:41:43.468908800Z"
    }
   },
   "id": "4a23b53b1f5e231c"
  },
  {
   "cell_type": "code",
   "execution_count": 6,
   "outputs": [
    {
     "data": {
      "text/plain": "        Name Dorm  Notebooks  Notebooks per Dorm\n0    Adriano    A        2.0                 6.0\n1        Ana    B        1.0                 4.0\n2       Luis    C        NaN                 6.0\n3  Guilherme    A        3.0                 6.0\n4       José    B        2.0                 4.0\n5      Maria    C        4.0                 6.0\n6      Clara    A        1.0                 6.0\n7   Leonardo    B        1.0                 4.0\n8      Alice    C        2.0                 6.0\n9      Júlia  NaN        3.0                 NaN",
      "text/html": "<div>\n<style scoped>\n    .dataframe tbody tr th:only-of-type {\n        vertical-align: middle;\n    }\n\n    .dataframe tbody tr th {\n        vertical-align: top;\n    }\n\n    .dataframe thead th {\n        text-align: right;\n    }\n</style>\n<table border=\"1\" class=\"dataframe\">\n  <thead>\n    <tr style=\"text-align: right;\">\n      <th></th>\n      <th>Name</th>\n      <th>Dorm</th>\n      <th>Notebooks</th>\n      <th>Notebooks per Dorm</th>\n    </tr>\n  </thead>\n  <tbody>\n    <tr>\n      <th>0</th>\n      <td>Adriano</td>\n      <td>A</td>\n      <td>2.0</td>\n      <td>6.0</td>\n    </tr>\n    <tr>\n      <th>1</th>\n      <td>Ana</td>\n      <td>B</td>\n      <td>1.0</td>\n      <td>4.0</td>\n    </tr>\n    <tr>\n      <th>2</th>\n      <td>Luis</td>\n      <td>C</td>\n      <td>NaN</td>\n      <td>6.0</td>\n    </tr>\n    <tr>\n      <th>3</th>\n      <td>Guilherme</td>\n      <td>A</td>\n      <td>3.0</td>\n      <td>6.0</td>\n    </tr>\n    <tr>\n      <th>4</th>\n      <td>José</td>\n      <td>B</td>\n      <td>2.0</td>\n      <td>4.0</td>\n    </tr>\n    <tr>\n      <th>5</th>\n      <td>Maria</td>\n      <td>C</td>\n      <td>4.0</td>\n      <td>6.0</td>\n    </tr>\n    <tr>\n      <th>6</th>\n      <td>Clara</td>\n      <td>A</td>\n      <td>1.0</td>\n      <td>6.0</td>\n    </tr>\n    <tr>\n      <th>7</th>\n      <td>Leonardo</td>\n      <td>B</td>\n      <td>1.0</td>\n      <td>4.0</td>\n    </tr>\n    <tr>\n      <th>8</th>\n      <td>Alice</td>\n      <td>C</td>\n      <td>2.0</td>\n      <td>6.0</td>\n    </tr>\n    <tr>\n      <th>9</th>\n      <td>Júlia</td>\n      <td>NaN</td>\n      <td>3.0</td>\n      <td>NaN</td>\n    </tr>\n  </tbody>\n</table>\n</div>"
     },
     "execution_count": 6,
     "metadata": {},
     "output_type": "execute_result"
    }
   ],
   "source": [
    "# Usando Scikit Learn - Possível de integrar ao Pipeline. Boa prática e melhor deploy.\n",
    "Combiner = CombineAttributes(column=\"teste\", to_integer=False)\n",
    "Combiner.transform(data)"
   ],
   "metadata": {
    "collapsed": false,
    "ExecuteTime": {
     "end_time": "2023-11-09T19:41:43.584842600Z",
     "start_time": "2023-11-09T19:41:43.497892Z"
    }
   },
   "id": "ea9b39152d77af31"
  },
  {
   "cell_type": "code",
   "execution_count": 7,
   "outputs": [
    {
     "data": {
      "text/plain": "Pipeline(steps=[('Missing Inputing',\n                 ColumnTransformer(transformers=[('ImputerDorm',\n                                                  SimpleImputer(fill_value='D',\n                                                                strategy='constant'),\n                                                  ['Dorm']),\n                                                 ('ImputerNotebook',\n                                                  SimpleImputer(fill_value=0,\n                                                                strategy='constant'),\n                                                  ['Notebooks'])],\n                                   verbose_feature_names_out=False)),\n                ('Transformador personalizado', CombineAttributes())])",
      "text/html": "<style>#sk-container-id-1 {color: black;}#sk-container-id-1 pre{padding: 0;}#sk-container-id-1 div.sk-toggleable {background-color: white;}#sk-container-id-1 label.sk-toggleable__label {cursor: pointer;display: block;width: 100%;margin-bottom: 0;padding: 0.3em;box-sizing: border-box;text-align: center;}#sk-container-id-1 label.sk-toggleable__label-arrow:before {content: \"▸\";float: left;margin-right: 0.25em;color: #696969;}#sk-container-id-1 label.sk-toggleable__label-arrow:hover:before {color: black;}#sk-container-id-1 div.sk-estimator:hover label.sk-toggleable__label-arrow:before {color: black;}#sk-container-id-1 div.sk-toggleable__content {max-height: 0;max-width: 0;overflow: hidden;text-align: left;background-color: #f0f8ff;}#sk-container-id-1 div.sk-toggleable__content pre {margin: 0.2em;color: black;border-radius: 0.25em;background-color: #f0f8ff;}#sk-container-id-1 input.sk-toggleable__control:checked~div.sk-toggleable__content {max-height: 200px;max-width: 100%;overflow: auto;}#sk-container-id-1 input.sk-toggleable__control:checked~label.sk-toggleable__label-arrow:before {content: \"▾\";}#sk-container-id-1 div.sk-estimator input.sk-toggleable__control:checked~label.sk-toggleable__label {background-color: #d4ebff;}#sk-container-id-1 div.sk-label input.sk-toggleable__control:checked~label.sk-toggleable__label {background-color: #d4ebff;}#sk-container-id-1 input.sk-hidden--visually {border: 0;clip: rect(1px 1px 1px 1px);clip: rect(1px, 1px, 1px, 1px);height: 1px;margin: -1px;overflow: hidden;padding: 0;position: absolute;width: 1px;}#sk-container-id-1 div.sk-estimator {font-family: monospace;background-color: #f0f8ff;border: 1px dotted black;border-radius: 0.25em;box-sizing: border-box;margin-bottom: 0.5em;}#sk-container-id-1 div.sk-estimator:hover {background-color: #d4ebff;}#sk-container-id-1 div.sk-parallel-item::after {content: \"\";width: 100%;border-bottom: 1px solid gray;flex-grow: 1;}#sk-container-id-1 div.sk-label:hover label.sk-toggleable__label {background-color: #d4ebff;}#sk-container-id-1 div.sk-serial::before {content: \"\";position: absolute;border-left: 1px solid gray;box-sizing: border-box;top: 0;bottom: 0;left: 50%;z-index: 0;}#sk-container-id-1 div.sk-serial {display: flex;flex-direction: column;align-items: center;background-color: white;padding-right: 0.2em;padding-left: 0.2em;position: relative;}#sk-container-id-1 div.sk-item {position: relative;z-index: 1;}#sk-container-id-1 div.sk-parallel {display: flex;align-items: stretch;justify-content: center;background-color: white;position: relative;}#sk-container-id-1 div.sk-item::before, #sk-container-id-1 div.sk-parallel-item::before {content: \"\";position: absolute;border-left: 1px solid gray;box-sizing: border-box;top: 0;bottom: 0;left: 50%;z-index: -1;}#sk-container-id-1 div.sk-parallel-item {display: flex;flex-direction: column;z-index: 1;position: relative;background-color: white;}#sk-container-id-1 div.sk-parallel-item:first-child::after {align-self: flex-end;width: 50%;}#sk-container-id-1 div.sk-parallel-item:last-child::after {align-self: flex-start;width: 50%;}#sk-container-id-1 div.sk-parallel-item:only-child::after {width: 0;}#sk-container-id-1 div.sk-dashed-wrapped {border: 1px dashed gray;margin: 0 0.4em 0.5em 0.4em;box-sizing: border-box;padding-bottom: 0.4em;background-color: white;}#sk-container-id-1 div.sk-label label {font-family: monospace;font-weight: bold;display: inline-block;line-height: 1.2em;}#sk-container-id-1 div.sk-label-container {text-align: center;}#sk-container-id-1 div.sk-container {/* jupyter's `normalize.less` sets `[hidden] { display: none; }` but bootstrap.min.css set `[hidden] { display: none !important; }` so we also need the `!important` here to be able to override the default hidden behavior on the sphinx rendered scikit-learn.org. See: https://github.com/scikit-learn/scikit-learn/issues/21755 */display: inline-block !important;position: relative;}#sk-container-id-1 div.sk-text-repr-fallback {display: none;}</style><div id=\"sk-container-id-1\" class=\"sk-top-container\"><div class=\"sk-text-repr-fallback\"><pre>Pipeline(steps=[(&#x27;Missing Inputing&#x27;,\n                 ColumnTransformer(transformers=[(&#x27;ImputerDorm&#x27;,\n                                                  SimpleImputer(fill_value=&#x27;D&#x27;,\n                                                                strategy=&#x27;constant&#x27;),\n                                                  [&#x27;Dorm&#x27;]),\n                                                 (&#x27;ImputerNotebook&#x27;,\n                                                  SimpleImputer(fill_value=0,\n                                                                strategy=&#x27;constant&#x27;),\n                                                  [&#x27;Notebooks&#x27;])],\n                                   verbose_feature_names_out=False)),\n                (&#x27;Transformador personalizado&#x27;, CombineAttributes())])</pre><b>In a Jupyter environment, please rerun this cell to show the HTML representation or trust the notebook. <br />On GitHub, the HTML representation is unable to render, please try loading this page with nbviewer.org.</b></div><div class=\"sk-container\" hidden><div class=\"sk-item sk-dashed-wrapped\"><div class=\"sk-label-container\"><div class=\"sk-label sk-toggleable\"><input class=\"sk-toggleable__control sk-hidden--visually\" id=\"sk-estimator-id-1\" type=\"checkbox\" ><label for=\"sk-estimator-id-1\" class=\"sk-toggleable__label sk-toggleable__label-arrow\">Pipeline</label><div class=\"sk-toggleable__content\"><pre>Pipeline(steps=[(&#x27;Missing Inputing&#x27;,\n                 ColumnTransformer(transformers=[(&#x27;ImputerDorm&#x27;,\n                                                  SimpleImputer(fill_value=&#x27;D&#x27;,\n                                                                strategy=&#x27;constant&#x27;),\n                                                  [&#x27;Dorm&#x27;]),\n                                                 (&#x27;ImputerNotebook&#x27;,\n                                                  SimpleImputer(fill_value=0,\n                                                                strategy=&#x27;constant&#x27;),\n                                                  [&#x27;Notebooks&#x27;])],\n                                   verbose_feature_names_out=False)),\n                (&#x27;Transformador personalizado&#x27;, CombineAttributes())])</pre></div></div></div><div class=\"sk-serial\"><div class=\"sk-item sk-dashed-wrapped\"><div class=\"sk-label-container\"><div class=\"sk-label sk-toggleable\"><input class=\"sk-toggleable__control sk-hidden--visually\" id=\"sk-estimator-id-2\" type=\"checkbox\" ><label for=\"sk-estimator-id-2\" class=\"sk-toggleable__label sk-toggleable__label-arrow\">Missing Inputing: ColumnTransformer</label><div class=\"sk-toggleable__content\"><pre>ColumnTransformer(transformers=[(&#x27;ImputerDorm&#x27;,\n                                 SimpleImputer(fill_value=&#x27;D&#x27;,\n                                               strategy=&#x27;constant&#x27;),\n                                 [&#x27;Dorm&#x27;]),\n                                (&#x27;ImputerNotebook&#x27;,\n                                 SimpleImputer(fill_value=0,\n                                               strategy=&#x27;constant&#x27;),\n                                 [&#x27;Notebooks&#x27;])],\n                  verbose_feature_names_out=False)</pre></div></div></div><div class=\"sk-parallel\"><div class=\"sk-parallel-item\"><div class=\"sk-item\"><div class=\"sk-label-container\"><div class=\"sk-label sk-toggleable\"><input class=\"sk-toggleable__control sk-hidden--visually\" id=\"sk-estimator-id-3\" type=\"checkbox\" ><label for=\"sk-estimator-id-3\" class=\"sk-toggleable__label sk-toggleable__label-arrow\">ImputerDorm</label><div class=\"sk-toggleable__content\"><pre>[&#x27;Dorm&#x27;]</pre></div></div></div><div class=\"sk-serial\"><div class=\"sk-item\"><div class=\"sk-estimator sk-toggleable\"><input class=\"sk-toggleable__control sk-hidden--visually\" id=\"sk-estimator-id-4\" type=\"checkbox\" ><label for=\"sk-estimator-id-4\" class=\"sk-toggleable__label sk-toggleable__label-arrow\">SimpleImputer</label><div class=\"sk-toggleable__content\"><pre>SimpleImputer(fill_value=&#x27;D&#x27;, strategy=&#x27;constant&#x27;)</pre></div></div></div></div></div></div><div class=\"sk-parallel-item\"><div class=\"sk-item\"><div class=\"sk-label-container\"><div class=\"sk-label sk-toggleable\"><input class=\"sk-toggleable__control sk-hidden--visually\" id=\"sk-estimator-id-5\" type=\"checkbox\" ><label for=\"sk-estimator-id-5\" class=\"sk-toggleable__label sk-toggleable__label-arrow\">ImputerNotebook</label><div class=\"sk-toggleable__content\"><pre>[&#x27;Notebooks&#x27;]</pre></div></div></div><div class=\"sk-serial\"><div class=\"sk-item\"><div class=\"sk-estimator sk-toggleable\"><input class=\"sk-toggleable__control sk-hidden--visually\" id=\"sk-estimator-id-6\" type=\"checkbox\" ><label for=\"sk-estimator-id-6\" class=\"sk-toggleable__label sk-toggleable__label-arrow\">SimpleImputer</label><div class=\"sk-toggleable__content\"><pre>SimpleImputer(fill_value=0, strategy=&#x27;constant&#x27;)</pre></div></div></div></div></div></div></div></div><div class=\"sk-item\"><div class=\"sk-estimator sk-toggleable\"><input class=\"sk-toggleable__control sk-hidden--visually\" id=\"sk-estimator-id-7\" type=\"checkbox\" ><label for=\"sk-estimator-id-7\" class=\"sk-toggleable__label sk-toggleable__label-arrow\">CombineAttributes</label><div class=\"sk-toggleable__content\"><pre>CombineAttributes()</pre></div></div></div></div></div></div></div>"
     },
     "execution_count": 7,
     "metadata": {},
     "output_type": "execute_result"
    }
   ],
   "source": [
    "# Integrando um transformador personalizado ao Pipeline\n",
    "main_pipe = Pipeline([\n",
    "    \n",
    "    (\"Missing Inputing\", ColumnTransformer([\n",
    "        (\"ImputerDorm\", SimpleImputer(strategy=\"constant\", fill_value=\"D\"), [\"Dorm\"]),\n",
    "        (\"ImputerNotebook\", SimpleImputer(strategy=\"constant\", fill_value=0), [\"Notebooks\"])],\n",
    "        remainder=\"drop\",\n",
    "        verbose_feature_names_out=False).set_output(transform=\"pandas\")),\n",
    "\n",
    "    (\"Transformador personalizado\", CombineAttributes()),\n",
    "\n",
    "])\n",
    "\n",
    "main_pipe"
   ],
   "metadata": {
    "collapsed": false,
    "ExecuteTime": {
     "end_time": "2023-11-09T19:41:43.784039Z",
     "start_time": "2023-11-09T19:41:43.529873800Z"
    }
   },
   "id": "e8bb722230b1f623"
  },
  {
   "cell_type": "code",
   "execution_count": 8,
   "outputs": [
    {
     "data": {
      "text/plain": "  Dorm  Notebooks  Notebooks per Dorm\n0    A        2.0                   6\n1    B        1.0                   4\n2    C        0.0                   6\n3    A        3.0                   6\n4    B        2.0                   4\n5    C        4.0                   6\n6    A        1.0                   6\n7    B        1.0                   4\n8    C        2.0                   6\n9    D        3.0                   3",
      "text/html": "<div>\n<style scoped>\n    .dataframe tbody tr th:only-of-type {\n        vertical-align: middle;\n    }\n\n    .dataframe tbody tr th {\n        vertical-align: top;\n    }\n\n    .dataframe thead th {\n        text-align: right;\n    }\n</style>\n<table border=\"1\" class=\"dataframe\">\n  <thead>\n    <tr style=\"text-align: right;\">\n      <th></th>\n      <th>Dorm</th>\n      <th>Notebooks</th>\n      <th>Notebooks per Dorm</th>\n    </tr>\n  </thead>\n  <tbody>\n    <tr>\n      <th>0</th>\n      <td>A</td>\n      <td>2.0</td>\n      <td>6</td>\n    </tr>\n    <tr>\n      <th>1</th>\n      <td>B</td>\n      <td>1.0</td>\n      <td>4</td>\n    </tr>\n    <tr>\n      <th>2</th>\n      <td>C</td>\n      <td>0.0</td>\n      <td>6</td>\n    </tr>\n    <tr>\n      <th>3</th>\n      <td>A</td>\n      <td>3.0</td>\n      <td>6</td>\n    </tr>\n    <tr>\n      <th>4</th>\n      <td>B</td>\n      <td>2.0</td>\n      <td>4</td>\n    </tr>\n    <tr>\n      <th>5</th>\n      <td>C</td>\n      <td>4.0</td>\n      <td>6</td>\n    </tr>\n    <tr>\n      <th>6</th>\n      <td>A</td>\n      <td>1.0</td>\n      <td>6</td>\n    </tr>\n    <tr>\n      <th>7</th>\n      <td>B</td>\n      <td>1.0</td>\n      <td>4</td>\n    </tr>\n    <tr>\n      <th>8</th>\n      <td>C</td>\n      <td>2.0</td>\n      <td>6</td>\n    </tr>\n    <tr>\n      <th>9</th>\n      <td>D</td>\n      <td>3.0</td>\n      <td>3</td>\n    </tr>\n  </tbody>\n</table>\n</div>"
     },
     "execution_count": 8,
     "metadata": {},
     "output_type": "execute_result"
    }
   ],
   "source": [
    "main_pipe.fit_transform(data)"
   ],
   "metadata": {
    "collapsed": false,
    "ExecuteTime": {
     "end_time": "2023-11-09T19:41:43.887947600Z",
     "start_time": "2023-11-09T19:41:43.574847200Z"
    }
   },
   "id": "a7b2883e59524c34"
  }
 ],
 "metadata": {
  "kernelspec": {
   "display_name": "Python 3",
   "language": "python",
   "name": "python3"
  },
  "language_info": {
   "codemirror_mode": {
    "name": "ipython",
    "version": 2
   },
   "file_extension": ".py",
   "mimetype": "text/x-python",
   "name": "python",
   "nbconvert_exporter": "python",
   "pygments_lexer": "ipython2",
   "version": "2.7.6"
  }
 },
 "nbformat": 4,
 "nbformat_minor": 5
}
